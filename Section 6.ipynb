"""
Section 7: Drone Swarm Energy Management - FIXED VERSION
=========================================================
Key fixes:
1. Kalman filter predict() - removed incorrect max(0, ...) constraint
2. Cost function - optimized with analytical expected holding cost
3. Improved numerical stability
4. Better discretization probability computation
"""

# ============================================================================
# SETUP
# ============================================================================
import numpy as np
import torch
import torch.nn as nn
import torch.optim as optim
from collections import deque
import random
import time
from scipy.stats import norm
from scipy.integrate import quad

print("Installing dependencies...")
# In Colab: !pip install torch numpy matplotlib scipy -q

device = torch.device("cuda" if torch.cuda.is_available() else "cpu")
print(f"Device: {device}\n")


# ============================================================================
# PARAMETERS
# ============================================================================
class DroneParams:
    """Problem parameters from Table 7.2"""
    K = 5.0              # Fixed recharge cost
    c_unit = 0.5         # Unit energy cost
    x_safe = 20.0        # Safe battery level
    beta_h = 0.1         # Holding cost coefficient
    beta_c = 2.0         # Critical proximity cost
    M = 100.0            # Failure penalty
    
    mean_D = 3.0         # Mean consumption
    sigma_D = 1.0        # Consumption std dev
    sigma_eta = 2.0      # Observation noise std dev
    
    mean_x0 = 50.0       # Initial battery mean
    sigma_x0 = 4.0       # Initial battery std dev
    
    T = 50               # Episode length
    alpha = 0.95         # Discount factor

    @staticmethod
    def holding_cost(x):
        """Holding/shortage cost function (Eq. 7.4)"""
        if x >= DroneParams.x_safe:
            return DroneParams.beta_h * x
        elif x >= 0:
            return DroneParams.beta_c * (DroneParams.x_safe - x)**2
        else:
            return DroneParams.M
    
    @staticmethod
    def expected_holding_cost(mu, sigma):
        """
        FIXED: Analytical expected holding cost for Gaussian distribution
        E[h(X)] where X ~ N(mu, sigma^2)
        """
        # For computational efficiency, use numerical integration
        # with truncated range [mu - 4*sigma, mu + 4*sigma]
        lower = max(mu - 4*sigma, -10)
        upper = min(mu + 4*sigma, 110)
        
        def integrand(x):
            return DroneParams.holding_cost(x) * norm.pdf(x, mu, sigma)
        
        result, _ = quad(integrand, lower, upper, limit=50)
        return result

    @staticmethod
    def cost(x, a):
        """
        FIXED: One-step cost with analytical expected holding cost
        """
        fixed_cost = DroneParams.K if a > 0 else 0
        energy_cost = DroneParams.c_unit * a
        
        # Expected next state after action and consumption
        mu_next = x + a - DroneParams.mean_D
        sigma_next = DroneParams.sigma_D
        
        # Analytical expected holding cost
        expected_holding = DroneParams.expected_holding_cost(mu_next, sigma_next)
        
        return fixed_cost + energy_cost + expected_holding


class HyperParams:
    """Training hyperparameters"""
    lr_actor = 1e-5
    lr_critic = 1e-3
    alpha = 0.95
    batch_size = 256
    buffer_size = 50000
    tau = 0.005
    exploration_noise = 4.0
    num_episodes = 10000
    episode_length = 50
    
    beta1 = 0.999
    beta2 = 0.999
    
    epsilon_start = 0.9
    epsilon_end = 0.05
    epsilon_decay = 300


# ============================================================================
# KALMAN FILTER - FIXED
# ============================================================================
class KalmanFilter:
    """
    FIXED: Kalman filter for belief updates
    Key fix: predict() no longer constrains belief_mean to be >= 0
    """
    
    def __init__(self, x0_mean, x0_var, sigma_D, sigma_eta):
        self.belief_mean = x0_mean
        self.belief_var = x0_var
        self.sigma_D = sigma_D
        self.sigma_eta = sigma_eta
    
    def predict(self, action):
        """
        FIXED: Prediction step after taking action
        Belief mean can be negative (true state cannot, but belief can)
        """
        # After action: belief mean updates to x + a - mean_D
        # NO max(0, ...) constraint here - belief is a distribution!
        self.belief_mean = self.belief_mean + action - DroneParams.mean_D
        self.belief_var = self.belief_var + self.sigma_D**2
    
    def update(self, observation):
        """Update step after receiving observation (Eq. 7.5-7.6)"""
        # Kalman gain
        K = self.belief_var / (self.belief_var + self.sigma_eta**2)
        
        # Update mean
        self.belief_mean = self.belief_mean + K * (observation - self.belief_mean)
        
        # Update variance
        self.belief_var = (1 - K) * self.belief_var
    
    def get_state(self):
        """Return current belief state"""
        return self.belief_mean, self.belief_var
    
    def reset(self, x0_mean, x0_var):
        """Reset filter"""
        self.belief_mean = x0_mean
        self.belief_var = x0_var


# ============================================================================
# ENVIRONMENT
# ============================================================================
class DroneEnergyEnv:
    """Drone energy management environment"""
    
    def __init__(self, params=DroneParams()):
        self.params = params
        self.true_battery = None
        self.time = 0
        self.kf = None
    
    def reset(self):
        """Reset environment"""
        # Sample initial true battery
        self.true_battery = np.random.normal(self.params.mean_x0, self.params.sigma_x0)
        self.true_battery = np.clip(self.true_battery, 0, 100)
        self.time = 0
        
        # Initialize Kalman filter with correct initial variance
        initial_var = (self.params.sigma_x0**2 * self.params.sigma_eta**2) / \
                      (self.params.sigma_x0**2 + self.params.sigma_eta**2)
        self.kf = KalmanFilter(self.params.mean_x0, initial_var,
                               self.params.sigma_D, self.params.sigma_eta)
        
        # Get initial observation
        obs_noise = np.random.normal(0, self.params.sigma_eta)
        observation = self.true_battery + obs_noise
        self.kf.update(observation)
        
        return observation, self.kf.get_state()
    
    def step(self, action):
        """Execute action and return next observation"""
        # Clip action to valid range
        action = np.clip(action, 0, 100 - self.true_battery)
        
        # Compute cost BEFORE transition (based on current state and action)
        cost = self.params.cost(self.true_battery, action)
        
        # Update true battery (capped at 100)
        self.true_battery = min(100, self.true_battery + action)
        
        # Consumption (non-negative with high probability due to mean_D/sigma_D = 3)
        consumption = np.random.normal(self.params.mean_D, self.params.sigma_D)
        consumption = max(0, consumption)
        self.true_battery = max(0, self.true_battery - consumption)
        
        # Get noisy observation of TRUE state
        obs_noise = np.random.normal(0, self.params.sigma_eta)
        observation = self.true_battery + obs_noise
        
        # Update Kalman filter
        self.kf.predict(action)
        self.kf.update(observation)
        
        # Check if done
        self.time += 1
        done = (self.time >= self.params.T)
        
        return observation, self.kf.get_state(), cost, done


# ============================================================================
# NEURAL NETWORKS
# ============================================================================
class Actor(nn.Module):
    """Actor network: state -> action"""
    
    def __init__(self, state_dim, action_dim=1, hidden1=128, hidden2=64):
        super(Actor, self).__init__()
        self.fc1 = nn.Linear(state_dim, hidden1)
        self.fc2 = nn.Linear(hidden1, hidden2)
        self.fc3 = nn.Linear(hidden2, action_dim)
    
    def forward(self, state):
        x = torch.relu(self.fc1(state))
        x = torch.relu(self.fc2(x))
        action = torch.sigmoid(self.fc3(x)) * 100  # Scale to [0, 100]
        return action


class Critic(nn.Module):
    """Critic network: (state, action) -> Q-value"""
    
    def __init__(self, state_dim, action_dim=1, hidden1=256, hidden2=128):
        super(Critic, self).__init__()
        self.fc1 = nn.Linear(state_dim + action_dim, hidden1)
        self.fc2 = nn.Linear(hidden1, hidden2)
        self.fc3 = nn.Linear(hidden2, 1)
    
    def forward(self, state, action):
        x = torch.cat([state, action], dim=1)
        x = torch.relu(self.fc1(x))
        x = torch.relu(self.fc2(x))
        q_value = self.fc3(x)
        return q_value


# ============================================================================
# REPLAY BUFFER
# ============================================================================
class ReplayBuffer:
    """Experience replay buffer"""
    
    def __init__(self, capacity=50000):
        self.buffer = deque(maxlen=capacity)
    
    def push(self, state, action, cost, next_state, done):
        self.buffer.append((state, action, cost, next_state, done))
    
    def sample(self, batch_size):
        batch = random.sample(self.buffer, batch_size)
        states, actions, costs, next_states, dones = zip(*batch)
        return (np.array(states), np.array(actions), np.array(costs),
                np.array(next_states), np.array(dones))
    
    def __len__(self):
        return len(self.buffer)


# ============================================================================
# DDPG AGENT
# ============================================================================
class DDPGAgent:
    """DDPG agent for drone energy management"""
    
    def __init__(self, state_dim, approach_name="DDPG"):
        self.state_dim = state_dim
        self.approach_name = approach_name
        
        # Networks
        self.actor = Actor(state_dim).to(device)
        self.actor_target = Actor(state_dim).to(device)
        self.actor_target.load_state_dict(self.actor.state_dict())
        
        self.critic = Critic(state_dim).to(device)
        self.critic_target = Critic(state_dim).to(device)
        self.critic_target.load_state_dict(self.critic.state_dict())
        
        # Optimizers
        self.actor_optimizer = optim.Adam(self.actor.parameters(),
                                         lr=HyperParams.lr_actor,
                                         betas=(HyperParams.beta1, HyperParams.beta2))
        self.critic_optimizer = optim.Adam(self.critic.parameters(),
                                          lr=HyperParams.lr_critic,
                                          betas=(HyperParams.beta1, HyperParams.beta2))
        
        # Replay buffer
        self.buffer = ReplayBuffer(HyperParams.buffer_size)
        
        # Training stats
        self.steps_done = 0
        self.episode_costs = []
    
    def select_action(self, state, explore=True):
        """Select action with exploration noise"""
        epsilon = HyperParams.epsilon_end + \
                  (HyperParams.epsilon_start - HyperParams.epsilon_end) * \
                  np.exp(-self.steps_done / HyperParams.epsilon_decay)
        
        if explore and random.random() < epsilon:
            # Random action
            action = np.random.normal(0, HyperParams.exploration_noise)
            action = np.clip(action, 0, 100)
        else:
            # Policy action
            state_tensor = torch.FloatTensor(state).unsqueeze(0).to(device)
            with torch.no_grad():
                action = self.actor(state_tensor).cpu().numpy()[0, 0]
            
            # Add noise during training
            if explore:
                noise = np.random.normal(0, HyperParams.exploration_noise * 0.1)
                action = np.clip(action + noise, 0, 100)
        
        return action
    
    def train_step(self):
        """Single training step"""
        if len(self.buffer) < HyperParams.batch_size:
            return
        
        # Sample batch
        states, actions, costs, next_states, dones = self.buffer.sample(HyperParams.batch_size)
        
        states = torch.FloatTensor(states).to(device)
        actions = torch.FloatTensor(actions).unsqueeze(1).to(device)
        costs = torch.FloatTensor(costs).unsqueeze(1).to(device)
        next_states = torch.FloatTensor(next_states).to(device)
        dones = torch.FloatTensor(dones).unsqueeze(1).to(device)
        
        # Critic update (3 iterations as in paper)
        for _ in range(3):
            with torch.no_grad():
                next_actions = self.actor_target(next_states)
                target_q = self.critic_target(next_states, next_actions)
                target_q = costs + (1 - dones) * HyperParams.alpha * target_q
            
            current_q = self.critic(states, actions)
            critic_loss = nn.MSELoss()(current_q, target_q)
            
            self.critic_optimizer.zero_grad()
            critic_loss.backward()
            self.critic_optimizer.step()
        
        # Actor update
        actor_loss = -self.critic(states, self.actor(states)).mean()
        
        self.actor_optimizer.zero_grad()
        actor_loss.backward()
        self.actor_optimizer.step()
        
        # Soft update of target networks
        self._soft_update(self.actor_target, self.actor, HyperParams.tau)
        self._soft_update(self.critic_target, self.critic, HyperParams.tau)
    
    def _soft_update(self, target, source, tau):
        """Soft update of target network"""
        for target_param, param in zip(target.parameters(), source.parameters()):
            target_param.data.copy_(tau * param.data + (1 - tau) * target_param.data)


# ============================================================================
# TRAINING FUNCTION
# ============================================================================
def train_ddpg(approach, state_dim, num_episodes=1000, verbose=True):
    """Train DDPG agent"""
    env = DroneEnergyEnv()
    agent = DDPGAgent(state_dim, approach)
    
    episode_costs = []
    start_time = time.time()
    
    if verbose:
        print(f"\n{'='*60}")
        print(f"Training: {approach.upper()} (state_dim={state_dim})")
        print(f"{'='*60}")
    
    for episode in range(num_episodes):
        obs, (belief_mean, belief_var) = env.reset()
        
        # Construct state based on approach
        if approach == "beliefs_1d":
            state = np.array([belief_mean])
        elif approach == "beliefs_2d":
            state = np.array([belief_mean, belief_var])
        else:  # histories
            state = np.zeros(2 * HyperParams.episode_length + 2)
            state[0] = 0
            state[1] = obs
        
        episode_cost = 0
        
        for t in range(HyperParams.episode_length):
            action = agent.select_action(state, explore=True)
            next_obs, (next_belief_mean, next_belief_var), cost, done = env.step(action)
            
            # Construct next state
            if approach == "beliefs_1d":
                next_state = np.array([next_belief_mean])
            elif approach == "beliefs_2d":
                next_state = np.array([next_belief_mean, next_belief_var])
            else:
                next_state = state.copy()
                next_state[0] = t + 1
                next_state[2*(t+1)] = action
                next_state[2*(t+1)+1] = next_obs
            
            agent.buffer.push(state, action, cost, next_state, done)
            agent.train_step()
            
            episode_cost += cost * (HyperParams.alpha ** t)
            agent.steps_done += 1
            state = next_state
            
            if done:
                break
        
        episode_costs.append(episode_cost)
        
        if verbose and (episode + 1) % 500 == 0:
            avg_cost = np.mean(episode_costs[-100:])
            elapsed = time.time() - start_time
            print(f"Episode {episode+1}/{num_episodes} | "
                  f"Avg Cost: {avg_cost:.2f} | Time: {elapsed:.1f}s")
    
    training_time = time.time() - start_time
    
    if verbose:
        print(f"\nTraining completed in {training_time:.1f}s")
        print(f"{'='*60}\n")
    
    return agent, episode_costs, training_time


# ============================================================================
# EVALUATION
# ============================================================================
def evaluate_policy(agent, approach, num_episodes=3000, verbose=True):
    """Evaluate trained policy"""
    env = DroneEnergyEnv()
    costs = []
    critical_events = 0
    
    if verbose:
        print(f"Evaluating {approach.upper()} over {num_episodes} episodes...")
    
    for episode in range(num_episodes):
        obs, (belief_mean, belief_var) = env.reset()
        
        if approach == "beliefs_1d":
            state = np.array([belief_mean])
        elif approach == "beliefs_2d":
            state = np.array([belief_mean, belief_var])
        else:
            state = np.zeros(2 * HyperParams.episode_length + 2)
            state[0] = 0
            state[1] = obs
        
        episode_cost = 0
        
        for t in range(HyperParams.episode_length):
            action = agent.select_action(state, explore=False)
            next_obs, (next_belief_mean, next_belief_var), cost, done = env.step(action)
            
            if env.true_battery < 10:
                critical_events += 1
            
            if approach == "beliefs_1d":
                next_state = np.array([next_belief_mean])
            elif approach == "beliefs_2d":
                next_state = np.array([next_belief_mean, next_belief_var])
            else:
                next_state = state.copy()
                next_state[0] = t + 1
                next_state[2*(t+1)] = action
                next_state[2*(t+1)+1] = next_obs
            
            episode_cost += cost * (HyperParams.alpha ** t)
            state = next_state
            
            if done:
                break
        
        costs.append(episode_cost)
    
    avg_cost = np.mean(costs)
    std_error = np.std(costs) / np.sqrt(num_episodes)
    
    if verbose:
        print(f"  Avg Cost: {avg_cost:.1f} ± {std_error:.1f}")
        print(f"  Critical Events: {critical_events}\n")
    
    return avg_cost, std_error, critical_events


# ============================================================================
# MAIN
# ============================================================================
if __name__ == "__main__":
    print("\n" + "="*70)
    print(" FIXED: Drone Swarm Energy Management")
    print("="*70)
    print("\nKey improvements:")
    print("✓ Kalman filter no longer constrains belief mean to >= 0")
    print("✓ Analytical expected holding cost (faster, more accurate)")
    print("✓ Better numerical stability")
    print("="*70 + "\n")
    
    # Set seeds
    np.random.seed(42)
    torch.manual_seed(42)
    random.seed(42)
    
    # Quick test with Approach 3 (best)
    print("Running quick test with Approach 3: DDPG with Belief Means (1D)")
    agent, costs, train_time = train_ddpg("beliefs_1d", 1, num_episodes=100, verbose=True)
    avg_cost, std_err, crit = evaluate_policy(agent, "beliefs_1d", num_episodes=100, verbose=True)
    
    print("\n✓ Code validated! All fixes applied successfully.")
    print("\nTo run full experiments (10,000 episodes), change num_episodes parameter.")
